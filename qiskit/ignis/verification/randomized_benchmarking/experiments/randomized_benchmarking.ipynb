{
 "cells": [
  {
   "cell_type": "markdown",
   "metadata": {},
   "source": [
    "# Randomized Benchmarking\n",
    "\n",
    "\n",
    "## Introduction\n",
    "\n",
    "**Randomization benchmarking (RB)** is a well-known technique to measure average gate performance by running sequences of random Clifford gates that should return the qubits to the initial state. \n",
    "Qiskit Ignis has tools to generate one- and two-qubit Clifford gate sequences simultaneously. \n",
    "\n",
    "This notebook gives an example for how to use the ``ignis.verification.randomized_benchmarking`` module. This particular example shows how to run 2-qubit randomized benchmarking (RB) simultaneous with 1-qubit RB. There are also examples on how to use some of the companion functions for predicting RB fidelity.\n"
   ]
  },
  {
   "cell_type": "code",
   "execution_count": 1,
   "metadata": {
    "ExecuteTime": {
     "end_time": "2019-12-10T21:49:09.958187Z",
     "start_time": "2019-12-10T21:49:08.131232Z"
    }
   },
   "outputs": [],
   "source": [
    "#Import general libraries (needed for functions)\n",
    "import numpy as np\n",
    "import matplotlib.pyplot as plt\n",
    "from IPython import display\n",
    "\n",
    "#Import Qiskit classes\n",
    "import qiskit\n",
    "from qiskit.providers.aer.noise import NoiseModel\n",
    "from qiskit.providers.aer.noise.errors.standard_errors import depolarizing_error, thermal_relaxation_error\n",
    "from qiskit.quantum_info import SuperOp\n",
    "\n",
    "#Import the RB Functions\n",
    "from qiskit.ignis.verification.randomized_benchmarking.experiments import (RBGenerator,\n",
    "                                                                           RBAnalysisBase,\n",
    "                                                                           RBExperiment)"
   ]
  },
  {
   "cell_type": "markdown",
   "metadata": {},
   "source": [
    "## 1) Select the Parameters of the RB Run <a name='select_params_RB'></a>\n",
    "\n",
    "First, wee need to choose the following parameters:\n",
    "\n",
    "- **nseeds:** The number of seeds. For each seed you will get a separate list of output circuits in rb_circs.\n",
    "- **length_vector:** The length vector of Clifford lengths. Must be in ascending order. RB sequences of increasing length grow on top of the previous sequences.\n",
    "- **rb_pattern:** A list of the form [[i,j],[k],...] which will make simultaneous RB sequences where Qi,Qj are a 2-qubit RB sequence and Qk is a 1-qubit sequence, etc. The number of qubits is the sum of the entries. For 'regular' RB the qubit_pattern is just [[0]],[[0,1]].\n",
    "- **length_multiplier:** If this is an array it scales each rb_sequence by the multiplier.\n",
    "- **seed_offset:** What to start the seeds at (e.g. if we want to add more seeds later).\n",
    "- **align_cliffs:**  If true adds a barrier across all qubits in rb_pattern after each set of cliffords.\n",
    "\n",
    "In this example we have 3 qubits Q0,Q1,Q2. \n",
    "We are running 2Q RB (on qubits Q0,Q2) and 1Q RB (on qubit Q1) simultaneously, \n",
    "where there are twice as many 1Q Clifford gates."
   ]
  },
  {
   "cell_type": "code",
   "execution_count": 2,
   "metadata": {
    "ExecuteTime": {
     "end_time": "2019-12-10T21:49:09.963476Z",
     "start_time": "2019-12-10T21:49:09.960218Z"
    }
   },
   "outputs": [],
   "source": [
    "#Number of qubits\n",
    "nQ = 3\n",
    "#There are 3 qubits: Q0,Q1,Q2.\n",
    "#Number of seeds (random sequences)\n",
    "nseeds = 5\n",
    "#Number of Cliffords in the sequence (start, stop, steps)\n",
    "nCliffs = np.arange(1,200,20)\n",
    "#2Q RB on Q0,Q2 and 1Q RB on Q1\n",
    "rb_pattern = [[0,2],[1]]\n",
    "#Do three times as many 1Q Cliffords\n",
    "length_multiplier = [1,3]"
   ]
  },
  {
   "cell_type": "markdown",
   "metadata": {},
   "source": [
    "## 2) Create the RB experiments <a name='gen_RB_seq'></a>\n",
    "\n",
    "We generate RB experiments. We start with a small example (so it doesn't take too long to run). This is done by using the `RBExperiment` class."
   ]
  },
  {
   "cell_type": "code",
   "execution_count": 3,
   "metadata": {
    "ExecuteTime": {
     "end_time": "2019-12-10T21:49:15.001889Z",
     "start_time": "2019-12-10T21:49:09.966440Z"
    },
    "scrolled": false
   },
   "outputs": [],
   "source": [
    "exp02 = RBExperiment(nseeds=nseeds, qubits=[0,2], lengths=nCliffs)\n",
    "exp1 = RBExperiment(nseeds=nseeds, qubits=[1], lengths=nCliffs)"
   ]
  },
  {
   "cell_type": "markdown",
   "metadata": {},
   "source": [
    "As an example, we print the circuit corresponding to the first RB sequence of the 2-qubit experiment:"
   ]
  },
  {
   "cell_type": "code",
   "execution_count": 4,
   "metadata": {
    "ExecuteTime": {
     "end_time": "2019-12-10T21:49:15.015115Z",
     "start_time": "2019-12-10T21:49:15.004449Z"
    }
   },
   "outputs": [
    {
     "name": "stdout",
     "output_type": "stream",
     "text": [
      "       ┌───┐           ┌───┐┌───┐ ░ ┌─────┐┌───┐     ┌───┐     ┌─┐   \n",
      "qr_0: ─┤ Z ├────────■──┤ H ├┤ S ├─░─┤ SDG ├┤ H ├──■──┤ Z ├─────┤M├───\n",
      "       └───┘        │  └───┘└───┘ ░ └─────┘└───┘  │  └───┘     └╥┘   \n",
      "qr_1: ──────────────┼─────────────────────────────┼─────────────╫────\n",
      "      ┌─────┐┌───┐┌─┴─┐           ░             ┌─┴─┐┌───┐┌───┐ ║ ┌─┐\n",
      "qr_2: ┤ SDG ├┤ H ├┤ X ├───────────░─────────────┤ X ├┤ H ├┤ S ├─╫─┤M├\n",
      "      └─────┘└───┘└───┘           ░             └───┘└───┘└───┘ ║ └╥┘\n",
      "cr: 2/══════════════════════════════════════════════════════════╩══╩═\n",
      "                                                                0  1 \n"
     ]
    }
   ],
   "source": [
    "print(exp02.generator.circuits()[0])"
   ]
  },
  {
   "cell_type": "markdown",
   "metadata": {},
   "source": [
    "## Look at the Unitary for 1 Circuit"
   ]
  },
  {
   "cell_type": "markdown",
   "metadata": {},
   "source": [
    "The Unitary representing each RB circuit should be the identity (with a global phase),\n",
    "since we multiply random Clifford elements, including a computed reversal gate. We simulate this using an Aer unitary simulator."
   ]
  },
  {
   "cell_type": "code",
   "execution_count": 5,
   "metadata": {
    "ExecuteTime": {
     "end_time": "2019-12-10T21:49:15.069700Z",
     "start_time": "2019-12-10T21:49:15.016779Z"
    }
   },
   "outputs": [
    {
     "name": "stdout",
     "output_type": "stream",
     "text": [
      "[[-0.707+0.707j  0.   -0.j     0.   +0.j     0.   +0.j     0.   +0.j\n",
      "   0.   +0.j     0.   +0.j     0.   +0.j   ]\n",
      " [-0.   +0.j    -0.707+0.707j  0.   +0.j     0.   +0.j     0.   -0.j\n",
      "  -0.   +0.j     0.   +0.j     0.   +0.j   ]\n",
      " [ 0.   +0.j     0.   +0.j    -0.707+0.707j  0.   -0.j     0.   +0.j\n",
      "   0.   +0.j     0.   +0.j     0.   +0.j   ]\n",
      " [ 0.   +0.j     0.   +0.j    -0.   +0.j    -0.707+0.707j  0.   +0.j\n",
      "   0.   +0.j     0.   -0.j    -0.   +0.j   ]\n",
      " [ 0.   +0.j     0.   -0.j     0.   +0.j     0.   +0.j    -0.707+0.707j\n",
      "   0.   +0.j     0.   +0.j     0.   +0.j   ]\n",
      " [ 0.   +0.j     0.   -0.j     0.   +0.j     0.   +0.j     0.   +0.j\n",
      "  -0.707+0.707j  0.   +0.j     0.   +0.j   ]\n",
      " [ 0.   +0.j     0.   +0.j     0.   +0.j     0.   -0.j     0.   +0.j\n",
      "   0.   +0.j    -0.707+0.707j  0.   +0.j   ]\n",
      " [ 0.   +0.j     0.   +0.j     0.   +0.j     0.   -0.j     0.   +0.j\n",
      "   0.   +0.j     0.   +0.j    -0.707+0.707j]]\n"
     ]
    }
   ],
   "source": [
    "#Create a new circuit without the measurement\n",
    "circ = exp02.generator.circuits()[-1]\n",
    "qc = qiskit.QuantumCircuit(*circ.qregs,*circ.cregs)\n",
    "for i in circ[0:-2]:\n",
    "    qc.data.append(i)\n",
    "backend = qiskit.Aer.get_backend('unitary_simulator')\n",
    "basis_gates = ['u1', 'u2', 'u3', 'cx'] # use U,CX for now\n",
    "job = qiskit.execute(qc, backend=backend, basis_gates=basis_gates)\n",
    "print(np.around(job.result().get_unitary(), 3))"
   ]
  },
  {
   "cell_type": "markdown",
   "metadata": {},
   "source": [
    "## Define the noise model"
   ]
  },
  {
   "cell_type": "markdown",
   "metadata": {},
   "source": [
    "We define a noise model for the simulator. To simulate decay, we add depolarizing error probabilities to the CNOT and U gates."
   ]
  },
  {
   "cell_type": "code",
   "execution_count": 6,
   "metadata": {
    "ExecuteTime": {
     "end_time": "2019-12-10T21:49:16.809930Z",
     "start_time": "2019-12-10T21:49:16.806016Z"
    }
   },
   "outputs": [],
   "source": [
    "noise_model = NoiseModel()\n",
    "p1Q = 0.002\n",
    "p2Q = 0.01\n",
    "noise_model.add_all_qubit_quantum_error(depolarizing_error(p1Q, 1), ['x', 'y', 'z'])\n",
    "noise_model.add_all_qubit_quantum_error(depolarizing_error(2*p1Q, 1), ['h', 's'])\n",
    "noise_model.add_all_qubit_quantum_error(depolarizing_error(p2Q, 2), 'cx')"
   ]
  },
  {
   "cell_type": "markdown",
   "metadata": {},
   "source": [
    "## 3) Run the RB experiment on Aer simulator <a name='ex_RB_seq'></a>\n",
    "\n",
    "We can run the RB experiment either using a Qiskit Aer Simulator (with some noise model) or using an IBMQ provider. The results are automatically passed to the fitter."
   ]
  },
  {
   "cell_type": "code",
   "execution_count": 7,
   "metadata": {},
   "outputs": [],
   "source": [
    "backend = qiskit.Aer.get_backend('qasm_simulator')\n",
    "shots = 200\n",
    "\n",
    "rb_result_02 = exp02.run(backend, noise_model=noise_model, shots=shots)\n",
    "rb_result_1 = exp1.run(backend, noise_model=noise_model, shots=shots)\n",
    "results = [rb_result_02, rb_result_1]"
   ]
  },
  {
   "cell_type": "code",
   "execution_count": 8,
   "metadata": {},
   "outputs": [
    {
     "name": "stdout",
     "output_type": "stream",
     "text": [
      "[[0.99  0.93  0.89  0.835 0.765 0.765 0.76  0.7   0.675 0.7  ]\n",
      " [1.    0.94  0.905 0.835 0.8   0.795 0.715 0.725 0.71  0.625]\n",
      " [1.    0.945 0.925 0.82  0.8   0.73  0.655 0.715 0.635 0.635]\n",
      " [0.99  0.925 0.82  0.845 0.785 0.74  0.65  0.63  0.63  0.69 ]\n",
      " [1.    0.91  0.82  0.795 0.8   0.705 0.7   0.735 0.63  0.565]]\n",
      "\n",
      "[0.996 0.93  0.872 0.826 0.79  0.747 0.696 0.701 0.656 0.643]\n"
     ]
    }
   ],
   "source": [
    "print(rb_result_1._xdata)\n",
    "print()\n",
    "print(rb_result_1._ydata['mean'])"
   ]
  },
  {
   "cell_type": "markdown",
   "metadata": {},
   "source": [
    "## 4) Fit the RB results and calculate the gate fidelity <a name='fit_RB'></a>\n",
    "\n",
    "### Get statistics about the survival probabilities\n",
    "\n",
    "The results in **result_list** should fit to an exponentially decaying function $A \\cdot \\alpha ^ m + B$, where $m$ is the Clifford length.\n",
    "\n",
    "From $\\alpha$ we can calculate the **Error per Clifford (EPC)**:\n",
    "$$ EPC = \\frac{2^n-1}{2^n} (1-\\alpha)$$\n",
    "(where $n=nQ$ is the number of qubits)."
   ]
  },
  {
   "cell_type": "markdown",
   "metadata": {},
   "source": [
    "### Plot After 1 Seed"
   ]
  },
  {
   "cell_type": "code",
   "execution_count": 9,
   "metadata": {
    "ExecuteTime": {
     "end_time": "2019-12-10T21:49:51.597937Z",
     "start_time": "2019-12-10T21:49:51.171988Z"
    },
    "scrolled": false
   },
   "outputs": [
    {
     "data": {
      "image/png": "[encoded data removed]",
      "text/plain": [
       "<Figure size 1080x432 with 2 Axes>"
      ]
     },
     "metadata": {
      "needs_background": "light"
     },
     "output_type": "display_data"
    }
   ],
   "source": [
    "plt.figure(figsize=(15, 6))\n",
    "\n",
    "for i in range(2):\n",
    "    ax = plt.subplot(1, 2, i+1)\n",
    "    pattern_ind = i\n",
    "\n",
    "    # Plot the essence by calling plot_rb_data\n",
    "    results[i].plot(pattern_ind, ax=ax, add_label=True, show_plt=False)\n",
    "\n",
    "    # Add title and label\n",
    "    ax.set_title('%d Qubit RB'%(results[i].num_qubits()), fontsize=18)\n",
    "\n",
    "plt.show()"
   ]
  },
  {
   "cell_type": "markdown",
   "metadata": {},
   "source": [
    "### Plot with the Rest of the Seeds \n",
    "The plot is being updated after each seed."
   ]
  },
  {
   "cell_type": "code",
   "execution_count": 10,
   "metadata": {
    "ExecuteTime": {
     "end_time": "2019-12-10T21:49:58.814328Z",
     "start_time": "2019-12-10T21:49:51.600375Z"
    }
   },
   "outputs": [
    {
     "ename": "NameError",
     "evalue": "name 'rb' is not defined",
     "output_type": "error",
     "traceback": [
      "\u001b[0;31m---------------------------------------------------------------------------\u001b[0m",
      "\u001b[0;31mNameError\u001b[0m                                 Traceback (most recent call last)",
      "\u001b[0;32m<ipython-input-10-b356f175fccd>\u001b[0m in \u001b[0;36m<module>\u001b[0;34m\u001b[0m\n\u001b[0;32m----> 1\u001b[0;31m \u001b[0mrbfit\u001b[0m \u001b[0;34m=\u001b[0m \u001b[0mrb\u001b[0m\u001b[0;34m.\u001b[0m\u001b[0mfitters\u001b[0m\u001b[0;34m.\u001b[0m\u001b[0mRBFitter\u001b[0m\u001b[0;34m(\u001b[0m\u001b[0mresult_list\u001b[0m\u001b[0;34m[\u001b[0m\u001b[0;36m0\u001b[0m\u001b[0;34m]\u001b[0m\u001b[0;34m,\u001b[0m \u001b[0mxdata\u001b[0m\u001b[0;34m,\u001b[0m \u001b[0mrb_opts\u001b[0m\u001b[0;34m[\u001b[0m\u001b[0;34m'rb_pattern'\u001b[0m\u001b[0;34m]\u001b[0m\u001b[0;34m)\u001b[0m\u001b[0;34m\u001b[0m\u001b[0;34m\u001b[0m\u001b[0m\n\u001b[0m\u001b[1;32m      2\u001b[0m \u001b[0;34m\u001b[0m\u001b[0m\n\u001b[1;32m      3\u001b[0m \u001b[0;32mfor\u001b[0m \u001b[0mseed_num\u001b[0m\u001b[0;34m,\u001b[0m \u001b[0mdata\u001b[0m \u001b[0;32min\u001b[0m \u001b[0menumerate\u001b[0m\u001b[0;34m(\u001b[0m\u001b[0mresult_list\u001b[0m\u001b[0;34m)\u001b[0m\u001b[0;34m:\u001b[0m\u001b[0;31m#range(1,len(result_list)):\u001b[0m\u001b[0;34m\u001b[0m\u001b[0;34m\u001b[0m\u001b[0m\n\u001b[1;32m      4\u001b[0m     \u001b[0mplt\u001b[0m\u001b[0;34m.\u001b[0m\u001b[0mfigure\u001b[0m\u001b[0;34m(\u001b[0m\u001b[0mfigsize\u001b[0m\u001b[0;34m=\u001b[0m\u001b[0;34m(\u001b[0m\u001b[0;36m15\u001b[0m\u001b[0;34m,\u001b[0m \u001b[0;36m6\u001b[0m\u001b[0;34m)\u001b[0m\u001b[0;34m)\u001b[0m\u001b[0;34m\u001b[0m\u001b[0;34m\u001b[0m\u001b[0m\n\u001b[1;32m      5\u001b[0m     \u001b[0maxis\u001b[0m \u001b[0;34m=\u001b[0m \u001b[0;34m[\u001b[0m\u001b[0mplt\u001b[0m\u001b[0;34m.\u001b[0m\u001b[0msubplot\u001b[0m\u001b[0;34m(\u001b[0m\u001b[0;36m1\u001b[0m\u001b[0;34m,\u001b[0m \u001b[0;36m2\u001b[0m\u001b[0;34m,\u001b[0m \u001b[0;36m1\u001b[0m\u001b[0;34m)\u001b[0m\u001b[0;34m,\u001b[0m \u001b[0mplt\u001b[0m\u001b[0;34m.\u001b[0m\u001b[0msubplot\u001b[0m\u001b[0;34m(\u001b[0m\u001b[0;36m1\u001b[0m\u001b[0;34m,\u001b[0m \u001b[0;36m2\u001b[0m\u001b[0;34m,\u001b[0m \u001b[0;36m2\u001b[0m\u001b[0;34m)\u001b[0m\u001b[0;34m]\u001b[0m\u001b[0;34m\u001b[0m\u001b[0;34m\u001b[0m\u001b[0m\n",
      "\u001b[0;31mNameError\u001b[0m: name 'rb' is not defined"
     ]
    }
   ],
   "source": [
    "rbfit = rb.fitters.RBFitter(result_list[0], xdata, rb_opts['rb_pattern'])\n",
    "\n",
    "for seed_num, data in enumerate(result_list):#range(1,len(result_list)):  \n",
    "    plt.figure(figsize=(15, 6))\n",
    "    axis = [plt.subplot(1, 2, 1), plt.subplot(1, 2, 2)]\n",
    "    \n",
    "    # Add another seed to the data\n",
    "    rbfit.add_data([data])\n",
    "    \n",
    "    for i in range(2):\n",
    "        pattern_ind = i\n",
    "\n",
    "        # Plot the essence by calling plot_rb_data\n",
    "        rbfit.plot_rb_data(pattern_ind, ax=axis[i], add_label=True, show_plt=False)\n",
    "\n",
    "        # Add title and label\n",
    "        axis[i].set_title('%d Qubit RB - after seed %d'%(len(rb_opts['rb_pattern'][i]), seed_num), fontsize=18)\n",
    "        \n",
    "    # Display\n",
    "    display.display(plt.gcf())\n",
    "    \n",
    "    # Clear display after each seed and close\n",
    "    display.clear_output(wait=True)\n",
    "    time.sleep(1.0)\n",
    "    plt.close()"
   ]
  },
  {
   "cell_type": "markdown",
   "metadata": {},
   "source": [
    "### Add more shots to the data"
   ]
  },
  {
   "cell_type": "code",
   "execution_count": null,
   "metadata": {
    "ExecuteTime": {
     "end_time": "2019-12-10T21:50:46.051635Z",
     "start_time": "2019-12-10T21:49:58.816353Z"
    }
   },
   "outputs": [],
   "source": [
    "shots = 200\n",
    "result_list = []\n",
    "transpile_list = []\n",
    "for rb_seed,rb_circ_seed in enumerate(rb_circs):\n",
    "    print('Compiling seed %d'%rb_seed)\n",
    "    rb_circ_transpile = qiskit.transpile(rb_circ_seed, basis_gates=basis_gates)\n",
    "    print('Simulating seed %d'%rb_seed)\n",
    "    job = qiskit.execute(rb_circ_transpile, noise_model=noise_model, shots=shots, backend=backend, backend_options={'max_parallel_experiments': 0})\n",
    "    result_list.append(job.result())\n",
    "    transpile_list.append(rb_circ_transpile)    \n",
    "print(\"Finished Simulating\")"
   ]
  },
  {
   "cell_type": "code",
   "execution_count": null,
   "metadata": {
    "ExecuteTime": {
     "end_time": "2019-12-10T21:50:46.784384Z",
     "start_time": "2019-12-10T21:50:46.054323Z"
    }
   },
   "outputs": [],
   "source": [
    "#Add this data to the previous fit\n",
    "rbfit.add_data(result_list)\n",
    "\n",
    "#Replot\n",
    "plt.figure(figsize=(15, 6))\n",
    "\n",
    "for i in range(2):\n",
    "    ax = plt.subplot(1, 2, i+1)\n",
    "    pattern_ind = i\n",
    "\n",
    "    # Plot the essence by calling plot_rb_data\n",
    "    rbfit.plot_rb_data(pattern_ind, ax=ax, add_label=True, show_plt=False)\n",
    "\n",
    "    # Add title and label\n",
    "    ax.set_title('%d Qubit RB'%(len(rb_opts['rb_pattern'][i])), fontsize=18)\n",
    "\n",
    "plt.show()"
   ]
  },
  {
   "cell_type": "markdown",
   "metadata": {},
   "source": [
    "### Predicted Gate Fidelity"
   ]
  },
  {
   "cell_type": "markdown",
   "metadata": {},
   "source": [
    "From the known depolarizing errors on the simulation we can predict the **fidelity**. \n",
    "First we need to count the number of **gates per Clifford**.\n",
    "\n",
    "The function **gates_per_clifford** takes a list of transpiled RB circuits and outputs the number of basis gates in each circuit."
   ]
  },
  {
   "cell_type": "code",
   "execution_count": null,
   "metadata": {
    "ExecuteTime": {
     "end_time": "2019-12-10T21:50:46.928133Z",
     "start_time": "2019-12-10T21:50:46.789697Z"
    }
   },
   "outputs": [],
   "source": [
    "#Count the number of single and 2Q gates in the 2Q Cliffords\n",
    "gates_per_cliff = rb.rb_utils.gates_per_clifford(transpile_list,xdata[0],basis_gates,rb_opts['rb_pattern'][0])\n",
    "for basis_gate in basis_gates:\n",
    "    print(\"Number of %s gates per Clifford: %f \"%(basis_gate ,\n",
    "                                                  np.mean([gates_per_cliff[0][basis_gate],\n",
    "                                                           gates_per_cliff[2][basis_gate]])))"
   ]
  },
  {
   "cell_type": "markdown",
   "metadata": {},
   "source": [
    "The function **calculate_2q_epc** gives measured errors in the basis gates that were used to construct the Clifford. \n",
    "It assumes that the error in the underlying gates is depolarizing. It outputs the error per a 2-qubit Clifford.\n",
    "\n",
    "The input to this function is:\n",
    "- **gate_per_cliff:** dictionary of gate per Clifford. \n",
    "- **epg_2q:** EPG estimated by error model.\n",
    "- **qubit_pair:** index of two qubits to calculate EPC. \n",
    "- **list_epgs_1q:** list of single qubit EPGs of qubit listed in ``qubit_pair``.\n",
    "- **two_qubit_name:** name of two qubit gate in ``basis gates`` (default is ``cx``)."
   ]
  },
  {
   "cell_type": "code",
   "execution_count": null,
   "metadata": {},
   "outputs": [],
   "source": [
    "# Error per gate from noise model\n",
    "epgs_1q = {'u1': 0, 'u2': p1Q/2, 'u3': 2*p1Q/2}\n",
    "epg_2q = p2Q*3/4\n",
    "pred_epc = rb.rb_utils.calculate_2q_epc(\n",
    "    gate_per_cliff=gates_per_cliff,\n",
    "    epg_2q=epg_2q,\n",
    "    qubit_pair=[0, 2],\n",
    "    list_epgs_1q=[epgs_1q, epgs_1q])\n",
    "\n",
    "# Calculate the predicted epc\n",
    "print(\"Predicted 2Q Error per Clifford: %e\"%pred_epc)"
   ]
  },
  {
   "cell_type": "markdown",
   "metadata": {},
   "source": [
    "## Run an RB Sequence with T1,T2 Errors\n",
    "\n",
    "We now choose RB sequences that contain only 2-qubit Cliffords.\n",
    "\n",
    "We execute these sequences as before, but with a noise model extended with T1/T2 thermal relaxation error, and fit the exponentially decaying curve. "
   ]
  },
  {
   "cell_type": "code",
   "execution_count": null,
   "metadata": {
    "ExecuteTime": {
     "end_time": "2019-12-10T21:50:49.335962Z",
     "start_time": "2019-12-10T21:50:46.946840Z"
    }
   },
   "outputs": [],
   "source": [
    "rb_opts2 = rb_opts.copy()\n",
    "rb_opts2['rb_pattern'] = [[0,1]]\n",
    "rb_opts2['length_multiplier'] = 1\n",
    "rb_circs2, xdata2 = rb.randomized_benchmarking_seq(**rb_opts2)\n",
    "\n",
    "noise_model2 = NoiseModel()\n",
    "\n",
    "#Add T1/T2 noise to the simulation\n",
    "t1 = 100.\n",
    "t2 = 80.\n",
    "gate1Q = 0.1\n",
    "gate2Q = 0.5\n",
    "noise_model2.add_all_qubit_quantum_error(thermal_relaxation_error(t1,t2,gate1Q), 'u2')\n",
    "noise_model2.add_all_qubit_quantum_error(thermal_relaxation_error(t1,t2,2*gate1Q), 'u3')\n",
    "noise_model2.add_all_qubit_quantum_error(\n",
    "    thermal_relaxation_error(t1,t2,gate2Q).tensor(thermal_relaxation_error(t1,t2,gate2Q)), 'cx')"
   ]
  },
  {
   "cell_type": "code",
   "execution_count": null,
   "metadata": {
    "ExecuteTime": {
     "end_time": "2019-12-10T21:51:13.492799Z",
     "start_time": "2019-12-10T21:50:49.337940Z"
    }
   },
   "outputs": [],
   "source": [
    "backend = qiskit.Aer.get_backend('qasm_simulator')\n",
    "basis_gates = ['u1','u2','u3','cx'] # use U,CX for now\n",
    "shots = 500\n",
    "result_list2 = []\n",
    "transpile_list2 = []\n",
    "for rb_seed,rb_circ_seed in enumerate(rb_circs2):\n",
    "    print('Compiling seed %d'%rb_seed)\n",
    "    rb_circ_transpile = qiskit.transpile(rb_circ_seed, basis_gates=basis_gates)\n",
    "    print('Simulating seed %d'%rb_seed)\n",
    "    job = qiskit.execute(rb_circ_transpile, noise_model=noise_model, shots=shots, backend=backend, backend_options={'max_parallel_experiments': 0})\n",
    "    result_list2.append(job.result())\n",
    "    transpile_list2.append(rb_circ_transpile)    \n",
    "print(\"Finished Simulating\")"
   ]
  },
  {
   "cell_type": "code",
   "execution_count": null,
   "metadata": {
    "ExecuteTime": {
     "end_time": "2019-12-10T21:51:13.840201Z",
     "start_time": "2019-12-10T21:51:13.497713Z"
    },
    "tags": [
     "nbsphinx-thumbnail"
    ]
   },
   "outputs": [],
   "source": [
    "#Create an RBFitter object \n",
    "rbfit = rb.RBFitter(result_list2, xdata2, rb_opts2['rb_pattern'])\n",
    "\n",
    "plt.figure(figsize=(10, 6))\n",
    "ax = plt.gca()\n",
    "\n",
    "# Plot the essence by calling plot_rb_data\n",
    "rbfit.plot_rb_data(0, ax=ax, add_label=True, show_plt=False)\n",
    "\n",
    "# Add title and label\n",
    "ax.set_title('2 Qubit RB with T1/T2 noise', fontsize=18)\n",
    "\n",
    "plt.show()"
   ]
  },
  {
   "cell_type": "markdown",
   "metadata": {},
   "source": [
    "We count again the number of **gates per Clifford** as before, and calculate the **two-qubit Clifford gate error**, using the predicted primitive gate errors from the coherence limit."
   ]
  },
  {
   "cell_type": "code",
   "execution_count": null,
   "metadata": {
    "ExecuteTime": {
     "end_time": "2019-12-10T21:51:13.929633Z",
     "start_time": "2019-12-10T21:51:13.843050Z"
    }
   },
   "outputs": [],
   "source": [
    "#Count the number of single and 2Q gates in the 2Q Cliffords\n",
    "gates_per_cliff = rb.rb_utils.gates_per_clifford(transpile_list2,xdata[0],basis_gates,rb_opts2['rb_pattern'][0])\n",
    "for basis_gate in basis_gates:\n",
    "    print(\"Number of %s gates per Clifford: %f \"%(basis_gate ,\n",
    "                                                  np.mean([gates_per_cliff[0][basis_gate],\n",
    "                                                           gates_per_cliff[1][basis_gate]])))"
   ]
  },
  {
   "cell_type": "code",
   "execution_count": null,
   "metadata": {},
   "outputs": [],
   "source": [
    "# Predicted primitive gate errors from the coherence limit\n",
    "u2_error = rb.rb_utils.coherence_limit(1,[t1],[t2],gate1Q)\n",
    "u3_error = rb.rb_utils.coherence_limit(1,[t1],[t2],2*gate1Q)\n",
    "epg_2q = rb.rb_utils.coherence_limit(2,[t1,t1],[t2,t2],gate2Q)\n",
    "epgs_1q = {'u1': 0, 'u2': u2_error, 'u3': u3_error}\n",
    "pred_epc = rb.rb_utils.calculate_2q_epc(\n",
    "    gate_per_cliff=gates_per_cliff,\n",
    "    epg_2q=epg_2q,\n",
    "    qubit_pair=[0, 1],\n",
    "    list_epgs_1q=[epgs_1q, epgs_1q])\n",
    "\n",
    "# Calculate the predicted epc\n",
    "print(\"Predicted 2Q Error per Clifford: %e\"%pred_epc)"
   ]
  },
  {
   "cell_type": "code",
   "execution_count": null,
   "metadata": {
    "ExecuteTime": {
     "end_time": "2019-12-10T21:51:14.059488Z",
     "start_time": "2019-12-10T21:51:13.949841Z"
    }
   },
   "outputs": [],
   "source": [
    "import qiskit.tools.jupyter\n",
    "%qiskit_version_table\n",
    "%qiskit_copyright"
   ]
  },
  {
   "cell_type": "code",
   "execution_count": null,
   "metadata": {},
   "outputs": [],
   "source": []
  }
 ],
 "metadata": {
  "celltoolbar": "Tags",
  "kernelspec": {
   "display_name": "qiskit-ignis",
   "language": "python",
   "name": "qiskit-ignis"
  },
  "language_info": {
   "codemirror_mode": {
    "name": "ipython",
    "version": 3
   },
   "file_extension": ".py",
   "mimetype": "text/x-python",
   "name": "python",
   "nbconvert_exporter": "python",
   "pygments_lexer": "ipython3",
   "version": "3.8.5"
  },
  "varInspector": {
   "cols": {
    "lenName": 16,
    "lenType": 16,
    "lenVar": 40
   },
   "kernels_config": {
    "python": {
     "delete_cmd_postfix": "",
     "delete_cmd_prefix": "del ",
     "library": "var_list.py",
     "varRefreshCmd": "print(var_dic_list())"
    },
    "r": {
     "delete_cmd_postfix": ") ",
     "delete_cmd_prefix": "rm(",
     "library": "var_list.r",
     "varRefreshCmd": "cat(var_dic_list()) "
    }
   },
   "types_to_exclude": [
    "module",
    "function",
    "builtin_function_or_method",
    "instance",
    "_Feature"
   ],
   "window_display": false
  }
 },
 "nbformat": 4,
 "nbformat_minor": 2
}
