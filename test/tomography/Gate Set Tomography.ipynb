{
 "cells": [
  {
   "cell_type": "code",
   "execution_count": 8,
   "metadata": {},
   "outputs": [],
   "source": [
    "import numpy as np\n",
    "from qiskit import Aer\n",
    "from qiskit.compiler import assemble\n",
    "from qiskit.ignis.verification.tomography import GatesetTomographyFitter\n",
    "from qiskit.ignis.verification.tomography import gateset_tomography_circuits\n",
    "from qiskit.ignis.verification.tomography.basis import default_gateset_basis\n",
    "\n",
    "from qiskit.providers.aer.noise.errors import QuantumError\n",
    "from qiskit.providers.aer.noise.errors import depolarizing_error\n",
    "from qiskit.providers.aer.noise import NoiseModel\n",
    "\n",
    "from qiskit.quantum_info import PTM, Kraus, Choi\n",
    "from qiskit.quantum_info import state_fidelity\n",
    "from qiskit import QuantumCircuit\n",
    "\n",
    "from qiskit.extensions import HGate, XGate"
   ]
  },
  {
   "cell_type": "code",
   "execution_count": 3,
   "metadata": {},
   "outputs": [],
   "source": [
    "def collect_tomography_data(shots=10000,\n",
    "                            noise_model=None,\n",
    "                            gateset_basis='Standard GST'):\n",
    "    backend_qasm = Aer.get_backend('qasm_simulator')\n",
    "    circuits = gateset_tomography_circuits(gateset_basis=gateset_basis)\n",
    "    qobj = assemble(circuits, shots=shots)\n",
    "    result = backend_qasm.run(qobj, noise_model=noise_model).result()\n",
    "    fitter = GatesetTomographyFitter(result, circuits, gateset_basis)\n",
    "    return fitter\n",
    "\n",
    "def gate_set_tomography(gate, noise_model=None):\n",
    "    basis = default_gateset_basis()\n",
    "    basis.add_gate(gate)\n",
    "    fitter = collect_tomography_data(shots=10000, noise_model=noise_model, gateset_basis=basis)\n",
    "    result_gates = fitter.fit()\n",
    "    result_gate = result_gates[gate.name]\n",
    "    return result_gate\n",
    "\n",
    "def print_results(gate, expected_gate):\n",
    "    print(\"Expected result:\")\n",
    "    print(np.real(np.round(expected_gate,decimals=2)))\n",
    "    print()\n",
    "    print(\"Result:\")\n",
    "    print(np.real(np.round(gate,decimals=2)))\n",
    "    print()\n",
    "    distance = np.linalg.norm(np.array(expected_gate.data) - np.array(gate.data))\n",
    "    print(\"Distance = \", distance)"
   ]
  },
  {
   "cell_type": "markdown",
   "metadata": {},
   "source": [
    "### H gate, no noise"
   ]
  },
  {
   "cell_type": "code",
   "execution_count": 7,
   "metadata": {},
   "outputs": [
    {
     "name": "stdout",
     "output_type": "stream",
     "text": [
      "Expected result:\n",
      "[[ 1.  0.  0.  0.]\n",
      " [ 0.  0.  0.  1.]\n",
      " [ 0.  0. -1.  0.]\n",
      " [ 0.  1.  0.  0.]]\n",
      "\n",
      "Result:\n",
      "[[ 1.01  0.01  0.    0.  ]\n",
      " [-0.01 -0.02 -0.    1.  ]\n",
      " [-0.    0.01 -1.   -0.01]\n",
      " [-0.    1.    0.01  0.  ]]\n",
      "\n",
      "Distance =  0.03383507236934219\n"
     ]
    }
   ],
   "source": [
    "gate = gate_set_tomography(HGate())\n",
    "expected_gate = PTM(HGate()).data\n",
    "print_results(gate, expected_gate)"
   ]
  },
  {
   "cell_type": "markdown",
   "metadata": {},
   "source": [
    "### X gate, no noise"
   ]
  },
  {
   "cell_type": "code",
   "execution_count": 9,
   "metadata": {},
   "outputs": [
    {
     "name": "stdout",
     "output_type": "stream",
     "text": [
      "Expected result:\n",
      "[[ 1.  0.  0.  0.]\n",
      " [ 0.  1.  0.  0.]\n",
      " [ 0.  0. -1.  0.]\n",
      " [ 0.  0.  0. -1.]]\n",
      "\n",
      "Result:\n",
      "[[ 1.01  0.01  0.    0.  ]\n",
      " [-0.    0.98 -0.01  0.01]\n",
      " [ 0.    0.01 -0.98 -0.01]\n",
      " [-0.    0.    0.01 -0.99]]\n",
      "\n",
      "Distance =  0.037759466859036216\n"
     ]
    }
   ],
   "source": [
    "gate = gate_set_tomography(XGate())\n",
    "expected_gate = PTM(XGate()).data\n",
    "print_results(gate, expected_gate)"
   ]
  },
  {
   "cell_type": "markdown",
   "metadata": {},
   "source": [
    "### X gate, amplitude damping ($\\gamma = 0.1$)"
   ]
  },
  {
   "cell_type": "code",
   "execution_count": 10,
   "metadata": {},
   "outputs": [
    {
     "name": "stdout",
     "output_type": "stream",
     "text": [
      "Expected result:\n",
      "[[ 1.    0.    0.   -0.  ]\n",
      " [ 0.    0.95  0.    0.  ]\n",
      " [ 0.    0.   -0.95  0.  ]\n",
      " [ 0.1   0.    0.   -0.9 ]]\n",
      "\n",
      "Result:\n",
      "[[ 1.    0.02 -0.01  0.  ]\n",
      " [ 0.01  0.94  0.02 -0.  ]\n",
      " [ 0.02 -0.01 -0.95  0.02]\n",
      " [-0.    0.    0.   -0.9 ]]\n",
      "\n",
      "Distance =  0.11220330983336729\n"
     ]
    }
   ],
   "source": [
    "gamma = 0.1\n",
    "A0 = [[1, 0], [0, np.sqrt(1 - gamma)]]\n",
    "A1 = [[0, np.sqrt(gamma)], [0, 0]]\n",
    "noise_ptm = PTM(Kraus([A0, A1])).data\n",
    "noise = QuantumError([([{'name': 'kraus',\n",
    "                         'qubits': [0],\n",
    "                         'params': [A0, A1]}], 1)])\n",
    "noise_model = NoiseModel()\n",
    "noise_model.add_all_qubit_quantum_error(noise, ['u1', 'u2', 'u3', 'x'])\n",
    "\n",
    "gate = gate_set_tomography(XGate(), noise_model)\n",
    "expected_gate = noise_ptm @ PTM(XGate()).data\n",
    "print_results(gate, expected_gate)"
   ]
  },
  {
   "cell_type": "markdown",
   "metadata": {},
   "source": [
    "### X gate, depolarization ($p=0.1$)"
   ]
  },
  {
   "cell_type": "code",
   "execution_count": 13,
   "metadata": {},
   "outputs": [
    {
     "name": "stdout",
     "output_type": "stream",
     "text": [
      "Expected result:\n",
      "[[ 0.3  0.   0.   0. ]\n",
      " [ 0.  -0.1  0.   0. ]\n",
      " [ 0.   0.   0.1  0. ]\n",
      " [ 0.   0.   0.   0.1]]\n",
      "\n",
      "Result:\n",
      "[[ 0.69 -0.06 -0.04  0.23]\n",
      " [-0.12  0.13  0.08 -0.02]\n",
      " [-0.01  0.11 -0.47 -0.19]\n",
      " [-0.16  0.07 -0.25 -0.32]]\n",
      "\n",
      "Distance =  0.9612696784586447\n"
     ]
    }
   ],
   "source": [
    "p = np.sqrt(0.1)\n",
    "X = [[0, p], [p, 0]]\n",
    "Y = [[0, -1j*p], [1j*p, 0]]\n",
    "Z = [[p, 0], [0, -p]]\n",
    "noise_ptm = PTM(Kraus([X,Y,Z])).data\n",
    "noise = QuantumError([([{'name': 'kraus',\n",
    "                         'qubits': [0],\n",
    "                         'params': [X,Y,Z]}], 1)])\n",
    "noise_model = NoiseModel()\n",
    "noise_model.add_all_qubit_quantum_error(noise, ['u1', 'u2', 'u3', 'x'])\n",
    "\n",
    "gate = gate_set_tomography(XGate(), noise_model)\n",
    "expected_gate = noise_ptm @  PTM(XGate()).data\n",
    "print_results(gate, expected_gate)"
   ]
  }
 ],
 "metadata": {
  "kernelspec": {
   "display_name": "qiskit",
   "language": "python",
   "name": "qiskit"
  },
  "language_info": {
   "codemirror_mode": {
    "name": "ipython",
    "version": 3
   },
   "file_extension": ".py",
   "mimetype": "text/x-python",
   "name": "python",
   "nbconvert_exporter": "python",
   "pygments_lexer": "ipython3",
   "version": "3.7.6"
  }
 },
 "nbformat": 4,
 "nbformat_minor": 4
}
