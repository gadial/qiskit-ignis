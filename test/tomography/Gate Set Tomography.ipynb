{
 "cells": [
  {
   "cell_type": "code",
   "execution_count": 39,
   "metadata": {},
   "outputs": [],
   "source": [
    "import numpy as np\n",
    "from qiskit import Aer\n",
    "from qiskit.compiler import assemble\n",
    "from qiskit.ignis.verification.tomography import GatesetTomographyFitter\n",
    "from qiskit.ignis.verification.tomography import gateset_tomography_circuits\n",
    "from qiskit.ignis.verification.tomography.basis import default_gateset_basis\n",
    "\n",
    "from qiskit.providers.aer.noise.errors import QuantumError\n",
    "from qiskit.providers.aer.noise.errors import depolarizing_error\n",
    "from qiskit.providers.aer.noise import NoiseModel\n",
    "\n",
    "from qiskit.quantum_info import PTM, Kraus, Choi\n",
    "from qiskit.quantum_info import state_fidelity\n",
    "from qiskit import QuantumCircuit"
   ]
  },
  {
   "cell_type": "code",
   "execution_count": 76,
   "metadata": {},
   "outputs": [],
   "source": [
    "def collect_tomography_data(shots=10000,\n",
    "                            noise_model=None,\n",
    "                            gateset_basis='Standard GST'):\n",
    "    backend_qasm = Aer.get_backend('qasm_simulator')\n",
    "    circuits = gateset_tomography_circuits(gateset_basis=gateset_basis)\n",
    "    qobj = assemble(circuits, shots=shots)\n",
    "    result = backend_qasm.run(qobj, noise_model=noise_model).result()\n",
    "    fitter = GatesetTomographyFitter(result, circuits, gateset_basis)\n",
    "    return fitter\n",
    "\n",
    "def gate_ptm_matrix(gate_func):\n",
    "    c = QuantumCircuit(1)\n",
    "    gate_func(c,c.qubits[0])\n",
    "    return PTM(c).data\n",
    "    \n",
    "def gate_set_tomography(gate_func, noise_model=None):\n",
    "    basis = default_gateset_basis()\n",
    "    test_gate_label = 'TEST_GATE'\n",
    "    basis.add_gate(test_gate_label, gate_func, gate_ptm_matrix(gate_func))\n",
    "    fitter = collect_tomography_data(shots=10000, noise_model=noise_model, gateset_basis=basis)\n",
    "    result_gates = fitter.fit()\n",
    "    result_gate = result_gates[test_gate_label]\n",
    "    return result_gate\n",
    "\n",
    "def print_results(gate, expected_gate):\n",
    "    print(\"Expected result:\")\n",
    "    print(np.real(np.round(expected_gate,decimals=2)))\n",
    "    print()\n",
    "    print(\"Result:\")\n",
    "    print(np.real(np.round(gate,decimals=2)))\n",
    "    print()\n",
    "    distance = np.linalg.norm(np.array(expected_gate.data) - np.array(gate.data))\n",
    "    print(\"Distance = \", distance)"
   ]
  },
  {
   "cell_type": "markdown",
   "metadata": {},
   "source": [
    "### H gate, no noise"
   ]
  },
  {
   "cell_type": "code",
   "execution_count": 81,
   "metadata": {},
   "outputs": [
    {
     "name": "stdout",
     "output_type": "stream",
     "text": [
      "Expected result:\n",
      "[[ 1.  0.  0.  0.]\n",
      " [ 0.  0.  0.  1.]\n",
      " [ 0.  0. -1.  0.]\n",
      " [ 0.  1.  0.  0.]]\n",
      "\n",
      "Result:\n",
      "[[ 1.    0.   -0.02 -0.  ]\n",
      " [ 0.01  0.    0.02 -0.99]\n",
      " [ 0.02  0.01 -0.99 -0.01]\n",
      " [-0.   -0.99 -0.02  0.02]]\n",
      "\n",
      "Distance =  2.8175405686933286\n"
     ]
    }
   ],
   "source": [
    "gate_func = lambda circuit, qubit: circuit.h(qubit)\n",
    "gate = gate_set_tomography(gate_func)\n",
    "expected_gate = gate_ptm_matrix(gate_func)\n",
    "print_results(gate, expected_gate)"
   ]
  },
  {
   "cell_type": "markdown",
   "metadata": {},
   "source": [
    "### X gate, no noise"
   ]
  },
  {
   "cell_type": "code",
   "execution_count": 82,
   "metadata": {},
   "outputs": [
    {
     "name": "stdout",
     "output_type": "stream",
     "text": [
      "Expected result:\n",
      "[[ 1.  0.  0.  0.]\n",
      " [ 0.  1.  0.  0.]\n",
      " [ 0.  0. -1.  0.]\n",
      " [ 0.  0.  0. -1.]]\n",
      "\n",
      "Result:\n",
      "[[ 1.02  0.01  0.01 -0.  ]\n",
      " [ 0.01  1.   -0.    0.  ]\n",
      " [-0.   -0.   -1.01 -0.  ]\n",
      " [-0.    0.   -0.01 -1.  ]]\n",
      "\n",
      "Distance =  0.027007259473328316\n"
     ]
    }
   ],
   "source": [
    "gate_func = lambda circuit, qubit: circuit.x(qubit)\n",
    "gate = gate_set_tomography(gate_func)\n",
    "expected_gate = gate_ptm_matrix(gate_func)\n",
    "print_results(gate, expected_gate)"
   ]
  },
  {
   "cell_type": "markdown",
   "metadata": {},
   "source": [
    "### X gate, amplitude damping ($\\gamma = 0.1$)"
   ]
  },
  {
   "cell_type": "code",
   "execution_count": 92,
   "metadata": {},
   "outputs": [
    {
     "name": "stdout",
     "output_type": "stream",
     "text": [
      "Expected result:\n",
      "[[ 1.    0.    0.   -0.  ]\n",
      " [ 0.    0.95  0.    0.  ]\n",
      " [ 0.    0.   -0.95  0.  ]\n",
      " [ 0.1   0.    0.   -0.9 ]]\n",
      "\n",
      "Result:\n",
      "[[ 1.01 -0.01 -0.03  0.  ]\n",
      " [-0.01  0.94  0.02 -0.01]\n",
      " [-0.   -0.02 -0.92 -0.  ]\n",
      " [ 0.01 -0.01  0.02 -0.9 ]]\n",
      "\n",
      "Distance =  0.10927619464570952\n"
     ]
    }
   ],
   "source": [
    "gamma = 0.1\n",
    "A0 = [[1, 0], [0, np.sqrt(1 - gamma)]]\n",
    "A1 = [[0, np.sqrt(gamma)], [0, 0]]\n",
    "noise_ptm = PTM(Kraus([A0, A1])).data\n",
    "noise = QuantumError([([{'name': 'kraus',\n",
    "                         'qubits': [0],\n",
    "                         'params': [A0, A1]}], 1)])\n",
    "noise_model = NoiseModel()\n",
    "noise_model.add_all_qubit_quantum_error(noise, ['u1', 'u2', 'u3', 'x'])\n",
    "\n",
    "gate_func = lambda circuit, qubit: circuit.x(qubit)\n",
    "gate = gate_set_tomography(gate_func,  noise_model)\n",
    "expected_gate = noise_ptm @ gate_ptm_matrix(gate_func)\n",
    "print_results(gate, expected_gate)"
   ]
  },
  {
   "cell_type": "markdown",
   "metadata": {},
   "source": [
    "### X gate, depolarization ($p=0.1$)"
   ]
  },
  {
   "cell_type": "code",
   "execution_count": 97,
   "metadata": {},
   "outputs": [
    {
     "name": "stdout",
     "output_type": "stream",
     "text": [
      "Expected result:\n",
      "[[ 0.3  0.   0.   0. ]\n",
      " [ 0.  -0.1  0.   0. ]\n",
      " [ 0.   0.   0.1  0. ]\n",
      " [ 0.   0.   0.   0.1]]\n",
      "\n",
      "Result:\n",
      "[[ 0.76 -0.15  0.03  0.27]\n",
      " [-0.05  0.41  0.37  0.02]\n",
      " [-0.06 -0.22 -0.19 -0.14]\n",
      " [-0.27  0.05  0.09 -0.08]]\n",
      "\n",
      "Distance =  0.9874127581958578\n"
     ]
    }
   ],
   "source": [
    "p = np.sqrt(0.1)\n",
    "X = [[0, p], [p, 0]]\n",
    "Y = [[0, -1j*p], [1j*p, 0]]\n",
    "Z = [[p, 0], [0, -p]]\n",
    "noise_ptm = PTM(Kraus([X,Y,Z])).data\n",
    "noise = QuantumError([([{'name': 'kraus',\n",
    "                         'qubits': [0],\n",
    "                         'params': [X,Y,Z]}], 1)])\n",
    "noise_model = NoiseModel()\n",
    "noise_model.add_all_qubit_quantum_error(noise, ['u1', 'u2', 'u3', 'x'])\n",
    "\n",
    "gate_func = lambda circuit, qubit: circuit.x(qubit)\n",
    "gate = gate_set_tomography(gate_func,  noise_model)\n",
    "expected_gate = noise_ptm @ gate_ptm_matrix(gate_func)\n",
    "print_results(gate, expected_gate)"
   ]
  }
 ],
 "metadata": {
  "kernelspec": {
   "display_name": "qiskit",
   "language": "python",
   "name": "qiskit"
  },
  "language_info": {
   "codemirror_mode": {
    "name": "ipython",
    "version": 3
   },
   "file_extension": ".py",
   "mimetype": "text/x-python",
   "name": "python",
   "nbconvert_exporter": "python",
   "pygments_lexer": "ipython3",
   "version": "3.7.6"
  }
 },
 "nbformat": 4,
 "nbformat_minor": 4
}
